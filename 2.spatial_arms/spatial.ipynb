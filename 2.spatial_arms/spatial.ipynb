{
 "cells": [
  {
   "cell_type": "code",
   "execution_count": 1,
   "metadata": {},
   "outputs": [],
   "source": [
    "import numpy as np\n",
    "import matplotlib.pyplot as plt\n",
    "\n",
    "from scipy.interpolate import interp1d\n",
    "from matplotlib.colors import LinearSegmentedColormap\n",
    "from ipywidgets import interact, IntSlider, Dropdown, Checkbox"
   ]
  },
  {
   "cell_type": "code",
   "execution_count": 2,
   "metadata": {},
   "outputs": [],
   "source": [
    "class Arm:\n",
    "    def __init__(self, unique_id, x, y, initial_mean, initial_std, variation_func):\n",
    "        self.unique_id = unique_id\n",
    "        self.x = x\n",
    "        self.y = y\n",
    "        self.initial_mean = initial_mean\n",
    "        self.initial_std = initial_std\n",
    "        self.variation_func = variation_func\n",
    "    \n",
    "    def get_mean(self, t, x, y):\n",
    "        distance = np.sqrt((self.x - x)**2 + (self.y - y)**2)\n",
    "        return self.variation_func(self.initial_mean, t, distance)\n",
    "    \n",
    "    def get_std(self, t):\n",
    "        return self.initial_std\n",
    "    \n",
    "    def pull(self, t, x, y):\n",
    "        return np.random.normal(self.get_mean(t, x, y), self.get_std(t))"
   ]
  },
  {
   "cell_type": "code",
   "execution_count": 3,
   "metadata": {},
   "outputs": [],
   "source": [
    "class MultiArmedBandit:\n",
    "    def __init__(self, arms, grid_size=50, strategy='epsilon_greedy', epsilon=0.1, max_speed=0.1, start_x=0.5, start_y=0.5):\n",
    "        self.arms = arms\n",
    "        self.n_arms = len(arms)\n",
    "        self.grid_size = grid_size\n",
    "        self.strategy = strategy\n",
    "        self.epsilon = epsilon\n",
    "        self.max_speed = max_speed\n",
    "        self.t = 0\n",
    "        self.x = start_x  # Initial x position of the bandit\n",
    "        self.y = start_y  # Initial y position of the bandit\n",
    "    \n",
    "    def select_action_random(self):\n",
    "        angle = np.random.uniform(0, 2*np.pi)\n",
    "        dx = self.max_speed * np.cos(angle)\n",
    "        dy = self.max_speed * np.sin(angle)\n",
    "        return min(max(self.x + dx, 0), 1), min(max(self.y + dy, 0), 1)\n",
    "    \n",
    "    def select_action_greedy(self, reward_grid):\n",
    "        # Use gradient ascent to find the best path\n",
    "        grad_y, grad_x = np.gradient(reward_grid)\n",
    "        start_x, start_y = int(self.x * (self.grid_size - 1)), int(self.y * (self.grid_size - 1))\n",
    "        \n",
    "        path_x, path_y = [start_x], [start_y]\n",
    "        for step in range(10):  # Take 10 small steps\n",
    "            current_x, current_y = int(path_x[-1]), int(path_y[-1])\n",
    "            gx = grad_x[current_y, current_x]\n",
    "            gy = grad_y[current_y, current_x]\n",
    "            magnitude = np.sqrt(gx**2 + gy**2)\n",
    "            if magnitude > 0:\n",
    "                gx, gy = gx / magnitude, gy / magnitude\n",
    "            \n",
    "            new_x = min(max(path_x[-1] + gx, 0), self.grid_size - 1)\n",
    "            new_y = min(max(path_y[-1] + gy, 0), self.grid_size - 1)\n",
    "            path_x.append(new_x)\n",
    "            path_y.append(new_y)\n",
    "        \n",
    "        # Interpolate path to respect max_speed\n",
    "        path_length = np.sum(np.sqrt(np.diff(path_x)**2 + np.diff(path_y)**2))\n",
    "        if path_length > self.max_speed * (self.grid_size - 1):\n",
    "            t = np.linspace(0, 1, len(path_x))\n",
    "            fx = interp1d(t, path_x)\n",
    "            fy = interp1d(t, path_y)\n",
    "            t_new = self.max_speed * (self.grid_size - 1) / path_length\n",
    "            return fx(t_new) / (self.grid_size - 1), fy(t_new) / (self.grid_size - 1)\n",
    "        else:\n",
    "            return path_x[-1] / (self.grid_size - 1), path_y[-1] / (self.grid_size - 1)\n",
    "    \n",
    "    def select_action_epsilon_greedy(self, reward_grid):\n",
    "        if np.random.random() < self.epsilon:\n",
    "            return self.select_action_random()\n",
    "        else:\n",
    "            return self.select_action_greedy(reward_grid)\n",
    "    \n",
    "    def select_action(self, reward_grid):\n",
    "        if self.strategy == 'random':\n",
    "            return self.select_action_random()\n",
    "        elif self.strategy == 'greedy':\n",
    "            return self.select_action_greedy(reward_grid)\n",
    "        elif self.strategy == 'epsilon_greedy':\n",
    "            return self.select_action_epsilon_greedy(reward_grid)\n",
    "        else:\n",
    "            raise ValueError(f\"Unknown strategy: {self.strategy}\")\n",
    "    \n",
    "    def get_reward(self, start_x, start_y, end_x, end_y):\n",
    "        # Calculate reward along the path\n",
    "        t = np.linspace(0, 1, 10)\n",
    "        path_x = start_x + t * (end_x - start_x)\n",
    "        path_y = start_y + t * (end_y - start_y)\n",
    "        \n",
    "        total_reward = 0\n",
    "        for x, y in zip(path_x, path_y):\n",
    "            total_reward += calculate_combined_reward(self.arms, x, y, self.t)\n",
    "        \n",
    "        return total_reward / len(t)\n",
    "\n",
    "    def move_to(self, x, y):\n",
    "        self.x = x\n",
    "        self.y = y\n",
    "\n",
    "def calculate_combined_reward(arms, x, y, t):\n",
    "    combined_reward = 0\n",
    "    for arm in arms:\n",
    "        distance = np.sqrt((arm.x - x)**2 + (arm.y - y)**2)\n",
    "        influence = 1 / (1 + 5 * distance)\n",
    "        arm_reward = arm.get_mean(t, x, y)\n",
    "        combined_reward += arm_reward * influence\n",
    "    return combined_reward"
   ]
  },
  {
   "cell_type": "code",
   "execution_count": 4,
   "metadata": {},
   "outputs": [],
   "source": [
    "def run_simulation(mab, n_steps):\n",
    "    values = {arm.unique_id: 0 for arm in mab.arms}\n",
    "    counts = {arm.unique_id: 0 for arm in mab.arms}\n",
    "    cumulative_reward = 0\n",
    "    rewards = []\n",
    "    actions = []\n",
    "    selections = []\n",
    "\n",
    "    for step in range(n_steps):\n",
    "        reward_grid = calculate_reward_grid(mab.arms, mab.grid_size, mab.t)\n",
    "        end_x, end_y = mab.select_action(reward_grid[:,:,-1])  # Use the combined reward grid\n",
    "        \n",
    "        # Ensure end_x and end_y are within bounds\n",
    "        end_x = min(max(end_x, 0), 1)\n",
    "        end_y = min(max(end_y, 0), 1)\n",
    "        \n",
    "        reward = mab.get_reward(mab.x, mab.y, end_x, end_y)\n",
    "\n",
    "        # Determine which arm had the most influence on this reward\n",
    "        distances = [np.sqrt((arm.x - end_x)**2 + (arm.y - end_y)**2) for arm in mab.arms]\n",
    "        closest_arm = mab.arms[np.argmin(distances)]\n",
    "        arm_id = closest_arm.unique_id\n",
    "\n",
    "        # Update tracking\n",
    "        counts[arm_id] += 1\n",
    "        n = counts[arm_id]\n",
    "        value = values[arm_id]\n",
    "        new_value = ((n - 1) / n) * value + (1 / n) * reward\n",
    "        values[arm_id] = new_value\n",
    "\n",
    "        mab.move_to(end_x, end_y)\n",
    "        cumulative_reward += reward\n",
    "        rewards.append(reward)\n",
    "        actions.append((end_x, end_y))\n",
    "        selections.append(arm_id)\n",
    "        mab.t += 1\n",
    "\n",
    "    return rewards, values, counts, cumulative_reward, selections, actions\n",
    "\n",
    "def calculate_reward_grid(arms, grid_size, t):\n",
    "    reward_grid = np.zeros((grid_size, grid_size, len(arms) + 1))\n",
    "    for i in range(grid_size):\n",
    "        for j in range(grid_size):\n",
    "            x, y = i / (grid_size - 1), j / (grid_size - 1)\n",
    "            for k, arm in enumerate(arms):\n",
    "                distance = np.sqrt((arm.x - x)**2 + (arm.y - y)**2)\n",
    "                influence = 1 / (1 + 5 * distance)\n",
    "                reward_grid[j, i, k] = arm.get_mean(t, x, y) * influence  # Note the j, i order\n",
    "            reward_grid[j, i, -1] = np.sum(reward_grid[j, i, :-1])  # Combined reward\n",
    "    return reward_grid"
   ]
  },
  {
   "cell_type": "code",
   "execution_count": 5,
   "metadata": {},
   "outputs": [],
   "source": [
    "def visualize_true_distribution(arms, grid_size=50, max_time=1000):\n",
    "    def update(time, view_option):\n",
    "        reward_grid = calculate_reward_grid(arms, grid_size, time)\n",
    "        \n",
    "        plt.figure(figsize=(10, 8))\n",
    "        if view_option == 'Combined':\n",
    "            plt.imshow(reward_grid[:,:,-1], origin='lower', extent=[0, 1, 0, 1], cmap='viridis')\n",
    "            plt.title(f\"Combined Spatial Reward Distribution (Time: {time})\")\n",
    "        else:\n",
    "            arm_index = int(view_option.split()[-1])\n",
    "            plt.imshow(reward_grid[:,:,arm_index], origin='lower', extent=[0, 1, 0, 1], cmap='viridis')\n",
    "            plt.title(f\"Reward Distribution for Arm {arm_index} (Time: {time})\")\n",
    "        \n",
    "        plt.colorbar(label='Expected Reward')\n",
    "        plt.xlabel(\"X coordinate\")\n",
    "        plt.ylabel(\"Y coordinate\")\n",
    "        \n",
    "        # Plot arm locations\n",
    "        for arm in arms:\n",
    "            plt.scatter(arm.x, arm.y, color='red', s=50, edgecolor='white')\n",
    "            plt.annotate(f\"Arm {arm.unique_id}\", (arm.x, arm.y), xytext=(5, 5), \n",
    "                         textcoords='offset points', color='white', fontweight='bold')\n",
    "        \n",
    "        plt.show()\n",
    "    \n",
    "    # Create an interactive slider and options\n",
    "    time_slider = IntSlider(min=0, max=max_time, step=1, value=0, description='Time:')\n",
    "    view_options = ['Combined'] + [f'Arm {i}' for i in range(len(arms))]\n",
    "    view_dropdown = Dropdown(options=view_options, value='Combined', description='View:')\n",
    "    \n",
    "    interact(update, time=time_slider, view_option=view_dropdown)"
   ]
  },
  {
   "cell_type": "code",
   "execution_count": 6,
   "metadata": {},
   "outputs": [],
   "source": [
    "# Create arms with different initial means, standard deviations, locations, and variation functions\n",
    "arms = [\n",
    "    Arm(0, 0.1, 0.2, 0.0, 1, lambda m, t, d: m + 0.01 * t - 0.1 * d),\n",
    "    Arm(1, 0.4, 0.8, 0.5, 1, lambda m, t, d: m + np.sin(t / 10) * 0.5 - 0.05 * d),\n",
    "    Arm(2, 0.6, 0.4, 1.0, 1, lambda m, t, d: m - 0.05 * d),\n",
    "    Arm(3, 0.8, 0.7, 1.5, 1, lambda m, t, d: m + 0.005 * t * np.sin(t / 5) - 0.1 * d),\n",
    "    Arm(4, 0.5, 0.6, 2.0, 1, lambda m, t, d: m - 0.02 * t - 0.08 * d)\n",
    "]"
   ]
  },
  {
   "cell_type": "code",
   "execution_count": 8,
   "metadata": {},
   "outputs": [
    {
     "data": {
      "application/vnd.jupyter.widget-view+json": {
       "model_id": "27ce597de25f4ccba0dcf750fa3be7ca",
       "version_major": 2,
       "version_minor": 0
      },
      "text/plain": [
       "interactive(children=(IntSlider(value=0, description='Time:', max=1000), Dropdown(description='View:', options…"
      ]
     },
     "metadata": {},
     "output_type": "display_data"
    }
   ],
   "source": [
    "# Visualize the reward distribution\n",
    "visualize_true_distribution(arms)"
   ]
  },
  {
   "cell_type": "code",
   "execution_count": 9,
   "metadata": {},
   "outputs": [],
   "source": [
    "def visualize_arm_selection_frequencies(all_actions, arms, max_time=1000):\n",
    "    plt.figure(figsize=(16, 14))\n",
    "    \n",
    "    # Create a custom colormap for the path\n",
    "    colors = ['blue', 'green', 'yellow', 'red']\n",
    "    n_bins = 100\n",
    "    cmap = LinearSegmentedColormap.from_list('custom', colors, N=n_bins)\n",
    "    \n",
    "    # Define line styles for each strategy\n",
    "    line_styles = {'random': '-', 'greedy': '--', 'epsilon_greedy': '-.'}\n",
    "    \n",
    "    def update(time, strategy_view, show_full_path, trail_length):\n",
    "        plt.clf()\n",
    "        \n",
    "        # Calculate reward grid for background\n",
    "        reward_grid = calculate_reward_grid(arms, 50, time)\n",
    "        plt.imshow(reward_grid[:,:,-1], origin='lower', extent=[0, 1, 0, 1], cmap='viridis', alpha=0.3)\n",
    "        plt.colorbar(label='Expected Reward')\n",
    "        \n",
    "        strategies_to_show = [strategy_view] if strategy_view != 'All' else all_actions.keys()\n",
    "        \n",
    "        for strategy in strategies_to_show:\n",
    "            actions = all_actions[strategy]\n",
    "            actions_up_to_time = actions[:time+1]\n",
    "            \n",
    "            if not show_full_path:\n",
    "                actions_up_to_time = actions_up_to_time[-trail_length:]\n",
    "            \n",
    "            x, y = zip(*actions_up_to_time)\n",
    "            \n",
    "            # Create a color array based on time\n",
    "            color_array = cmap(np.linspace(0, 1, len(x)))\n",
    "            \n",
    "            # Plot the path with changing color\n",
    "            if show_full_path:\n",
    "                for i in range(len(x) - 1):\n",
    "                    plt.plot(x[i:i+2], y[i:i+2], color=color_array[i], \n",
    "                             linestyle=line_styles[strategy], linewidth=2, alpha=0.7)\n",
    "            \n",
    "            # Plot the final position\n",
    "            plt.scatter(x[-1], y[-1], color=color_array[-1], s=100, \n",
    "                        label=f\"{strategy} (current)\")\n",
    "            \n",
    "            # Plot a trail of recent positions\n",
    "            trail_start = max(0, len(x) - trail_length)\n",
    "            plt.plot(x[trail_start:], y[trail_start:], \n",
    "                     color='white', linestyle=line_styles[strategy], linewidth=3, alpha=0.5)\n",
    "            plt.plot(x[trail_start:], y[trail_start:], \n",
    "                     color=cmap(0.5), linestyle=line_styles[strategy], linewidth=2, alpha=0.7)\n",
    "        \n",
    "        # Plot arm locations\n",
    "        for arm in arms:\n",
    "            plt.scatter(arm.x, arm.y, color='red', s=200, marker='*', edgecolor='white', zorder=10)\n",
    "            plt.annotate(f\"Arm {arm.unique_id}\", (arm.x, arm.y), xytext=(5, 5), \n",
    "                         textcoords='offset points', color='black', fontweight='bold')\n",
    "        \n",
    "        plt.title(f\"Bandit Path Over Time (Time: {time})\")\n",
    "        plt.xlabel(\"X coordinate\")\n",
    "        plt.ylabel(\"Y coordinate\")\n",
    "        plt.legend(loc='upper left')\n",
    "        plt.grid(True, alpha=0.3)\n",
    "        plt.tight_layout()\n",
    "        plt.show()\n",
    "    \n",
    "    # Create interactive widgets\n",
    "    time_slider = IntSlider(min=0, max=max_time, step=1, value=0, description='Time:')\n",
    "    strategy_dropdown = Dropdown(options=['All'] + list(all_actions.keys()), value='All', description='Strategy:')\n",
    "    show_full_path = Checkbox(value=False, description='Show Full Path')\n",
    "    trail_length = IntSlider(min=1, max=100, step=1, value=20, description='Trail Length:')\n",
    "    \n",
    "    interact(update, time=time_slider, strategy_view=strategy_dropdown, \n",
    "             show_full_path=show_full_path, trail_length=trail_length)"
   ]
  },
  {
   "cell_type": "code",
   "execution_count": 10,
   "metadata": {},
   "outputs": [],
   "source": [
    "# Simulation parameters\n",
    "num_steps = 1000\n",
    "strategies = ['random', 'greedy', 'epsilon_greedy']\n",
    "start_x, start_y = 0.5, 0.5"
   ]
  },
  {
   "cell_type": "code",
   "execution_count": 11,
   "metadata": {},
   "outputs": [],
   "source": [
    "# Run simulations for each strategy\n",
    "results = {}\n",
    "final_values = {}\n",
    "final_counts = {}\n",
    "cumulative_rewards = {}\n",
    "all_selections = {}\n",
    "all_actions = {}\n",
    "\n",
    "for strategy in strategies:\n",
    "    mab = MultiArmedBandit(arms, strategy=strategy, max_speed=0.1, start_x=start_x, start_y=start_y)\n",
    "    rewards, values, counts, cumulative_reward, selections, actions = run_simulation(mab, num_steps)\n",
    "    results[strategy] = rewards\n",
    "    final_values[strategy] = values\n",
    "    final_counts[strategy] = counts\n",
    "    cumulative_rewards[strategy] = cumulative_reward\n",
    "    all_selections[strategy] = selections\n",
    "    all_actions[strategy] = actions"
   ]
  },
  {
   "cell_type": "code",
   "execution_count": 12,
   "metadata": {},
   "outputs": [
    {
     "data": {
      "text/plain": [
       "<Figure size 1152x1008 with 0 Axes>"
      ]
     },
     "metadata": {},
     "output_type": "display_data"
    },
    {
     "data": {
      "application/vnd.jupyter.widget-view+json": {
       "model_id": "4b7e521ce7164fb38b644a914ed31c5a",
       "version_major": 2,
       "version_minor": 0
      },
      "text/plain": [
       "interactive(children=(IntSlider(value=0, description='Time:', max=999), Dropdown(description='Strategy:', opti…"
      ]
     },
     "metadata": {},
     "output_type": "display_data"
    }
   ],
   "source": [
    "# Visualize arm selection frequencies\n",
    "visualize_arm_selection_frequencies(all_actions, arms, max_time=num_steps-1)"
   ]
  },
  {
   "cell_type": "code",
   "execution_count": 13,
   "metadata": {},
   "outputs": [
    {
     "data": {
      "image/png": "[encoded data removed]",
      "text/plain": [
       "<Figure size 864x432 with 1 Axes>"
      ]
     },
     "metadata": {
      "needs_background": "light"
     },
     "output_type": "display_data"
    }
   ],
   "source": [
    "# Plot cumulative reward over time\n",
    "plt.figure(figsize=(12, 6))\n",
    "for strategy, rewards in results.items():\n",
    "    plt.plot(np.cumsum(rewards), label=strategy)\n",
    "\n",
    "plt.title(f\"Cumulative Reward Over Time ({len(arms)} arms, {num_steps} steps)\")\n",
    "plt.xlabel(\"Steps\")\n",
    "plt.ylabel(\"Cumulative Reward\")\n",
    "plt.legend()\n",
    "plt.grid(True)\n",
    "plt.show()"
   ]
  },
  {
   "cell_type": "code",
   "execution_count": 14,
   "metadata": {},
   "outputs": [
    {
     "data": {
      "image/png": "[encoded data removed]",
      "text/plain": [
       "<Figure size 864x432 with 1 Axes>"
      ]
     },
     "metadata": {
      "needs_background": "light"
     },
     "output_type": "display_data"
    }
   ],
   "source": [
    "# Plot average reward over time\n",
    "plt.figure(figsize=(12, 6))\n",
    "for strategy, rewards in results.items():\n",
    "    average_reward = np.cumsum(rewards) / (np.arange(len(rewards)) + 1)\n",
    "    plt.plot(average_reward, label=strategy)\n",
    "\n",
    "plt.title(f\"Average Reward Over Time ({len(arms)} arms, {num_steps} steps)\")\n",
    "plt.xlabel(\"Steps\")\n",
    "plt.ylabel(\"Average Reward\")\n",
    "plt.legend()\n",
    "plt.grid(True)\n",
    "plt.show()"
   ]
  },
  {
   "cell_type": "code",
   "execution_count": 15,
   "metadata": {},
   "outputs": [
    {
     "name": "stdout",
     "output_type": "stream",
     "text": [
      "\n",
      "Final values and visit counts for random strategy:\n",
      "Arm 0 (x=0.10, y=0.20): Final reward = 4.95, Estimated value = 0.27, Visit count = 65\n",
      "Arm 1 (x=0.40, y=0.80): Final reward = -6.79, Estimated value = -0.49, Visit count = 97\n",
      "Arm 2 (x=0.60, y=0.40): Final reward = -5.93, Estimated value = -0.63, Visit count = 368\n",
      "Arm 3 (x=0.80, y=0.70): Final reward = -7.96, Estimated value = -0.32, Visit count = 365\n",
      "Arm 4 (x=0.50, y=0.60): Final reward = -16.10, Estimated value = -2.02, Visit count = 105\n",
      "Total reward: -591.65\n",
      "Final bandit position: x=0.00, y=0.34\n",
      "\n",
      "Final values and visit counts for greedy strategy:\n",
      "Arm 0 (x=0.10, y=0.20): Final reward = 4.95, Estimated value = 3.79, Visit count = 696\n",
      "Arm 1 (x=0.40, y=0.80): Final reward = -6.79, Estimated value = 0.00, Visit count = 0\n",
      "Arm 2 (x=0.60, y=0.40): Final reward = -5.93, Estimated value = 1.20, Visit count = 214\n",
      "Arm 3 (x=0.80, y=0.70): Final reward = -7.96, Estimated value = 0.00, Visit count = 0\n",
      "Arm 4 (x=0.50, y=0.60): Final reward = -16.10, Estimated value = 2.43, Visit count = 90\n",
      "Total reward: 3112.23\n",
      "Final bandit position: x=0.11, y=0.20\n",
      "\n",
      "Final values and visit counts for epsilon_greedy strategy:\n",
      "Arm 0 (x=0.10, y=0.20): Final reward = 4.95, Estimated value = 3.53, Visit count = 752\n",
      "Arm 1 (x=0.40, y=0.80): Final reward = -6.79, Estimated value = 2.57, Visit count = 1\n",
      "Arm 2 (x=0.60, y=0.40): Final reward = -5.93, Estimated value = 1.40, Visit count = 176\n",
      "Arm 3 (x=0.80, y=0.70): Final reward = -7.96, Estimated value = 0.00, Visit count = 0\n",
      "Arm 4 (x=0.50, y=0.60): Final reward = -16.10, Estimated value = 2.51, Visit count = 71\n",
      "Total reward: 3082.89\n",
      "Final bandit position: x=0.11, y=0.20\n"
     ]
    }
   ],
   "source": [
    "# Print final arm values and counts for each strategy\n",
    "for strategy in strategies:\n",
    "    print(f\"\\nFinal values and visit counts for {strategy} strategy:\")\n",
    "    for arm in arms:\n",
    "        final_reward = calculate_combined_reward(arms, arm.x, arm.y, num_steps-1)\n",
    "        print(f\"Arm {arm.unique_id} (x={arm.x:.2f}, y={arm.y:.2f}): \"\n",
    "              f\"Final reward = {final_reward:.2f}, \"\n",
    "              f\"Estimated value = {final_values[strategy][arm.unique_id]:.2f}, \"\n",
    "              f\"Visit count = {final_counts[strategy][arm.unique_id]}\")\n",
    "    print(f\"Total reward: {cumulative_rewards[strategy]:.2f}\")\n",
    "    print(f\"Final bandit position: x={all_actions[strategy][-1][0]:.2f}, y={all_actions[strategy][-1][1]:.2f}\")"
   ]
  }
 ],
 "metadata": {
  "kernelspec": {
   "display_name": "Python 3",
   "language": "python",
   "name": "python3"
  },
  "language_info": {
   "codemirror_mode": {
    "name": "ipython",
    "version": 3
   },
   "file_extension": ".py",
   "mimetype": "text/x-python",
   "name": "python",
   "nbconvert_exporter": "python",
   "pygments_lexer": "ipython3",
   "version": "3.10.0"
  }
 },
 "nbformat": 4,
 "nbformat_minor": 2
}
